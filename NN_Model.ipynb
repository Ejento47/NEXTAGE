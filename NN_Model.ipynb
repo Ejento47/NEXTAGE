{
 "cells": [
  {
   "cell_type": "code",
   "execution_count": 1,
   "metadata": {},
   "outputs": [],
   "source": [
    "# Import Relevant Libraries\n",
    "import os\n",
    "import numpy as np\n",
    "import pandas as pd\n",
    "from sklearn.model_selection import GridSearchCV\n",
    "from sklearn.neural_network import MLPClassifier\n",
    "from sklearn.model_selection import train_test_split\n",
    "from sklearn.metrics import mean_squared_error"
   ]
  },
  {
   "cell_type": "code",
   "execution_count": 3,
   "metadata": {},
   "outputs": [
    {
     "ename": "FileNotFoundError",
     "evalue": "[WinError 3] The system cannot find the path specified: 'Data'",
     "output_type": "error",
     "traceback": [
      "\u001b[1;31m---------------------------------------------------------------------------\u001b[0m",
      "\u001b[1;31mFileNotFoundError\u001b[0m                         Traceback (most recent call last)",
      "Cell \u001b[1;32mIn[3], line 3\u001b[0m\n\u001b[0;32m      1\u001b[0m \u001b[38;5;66;03m# Reading files in folder\u001b[39;00m\n\u001b[0;32m      2\u001b[0m direc \u001b[38;5;241m=\u001b[39m \u001b[38;5;124m\"\u001b[39m\u001b[38;5;124mData\u001b[39m\u001b[38;5;124m\"\u001b[39m\n\u001b[1;32m----> 3\u001b[0m all_files \u001b[38;5;241m=\u001b[39m os\u001b[38;5;241m.\u001b[39mlistdir(direc)\n\u001b[0;32m      4\u001b[0m jig_files \u001b[38;5;241m=\u001b[39m [file \u001b[38;5;28;01mfor\u001b[39;00m file \u001b[38;5;129;01min\u001b[39;00m all_files \u001b[38;5;28;01mif\u001b[39;00m \u001b[38;5;124m\"\u001b[39m\u001b[38;5;124mjig\u001b[39m\u001b[38;5;124m\"\u001b[39m \u001b[38;5;129;01min\u001b[39;00m file]\n\u001b[0;32m      6\u001b[0m y_train_back \u001b[38;5;241m=\u001b[39m []\n",
      "\u001b[1;31mFileNotFoundError\u001b[0m: [WinError 3] The system cannot find the path specified: 'Data'"
     ]
    }
   ],
   "source": [
    "# Reading files in folder\n",
    "direc = \"Data\"\n",
    "all_files = os.listdir(direc)\n",
    "jig_files = [file for file in all_files if \"jig\" in file]\n",
    "\n",
    "y_train_back = []\n",
    "y_train_front = []\n",
    "x_train = []\n",
    "\n",
    "data_types = [\" fx[N]\", \" fy[N]\", \" fz[N]\"]\n",
    "# Extracting data from CSV and giving them labels\n",
    "for file_name in jig_files:\n",
    "    df = pd.read_csv(os.path.join(direc, file_name))\n",
    "    data = []\n",
    "    for tst in data_types:\n",
    "        temp = df[tst].values\n",
    "        temp = temp[0:210]\n",
    "        data.append(temp)\n",
    "    x_train.append(np.concatenate(data))\n",
    "    \n",
    "    back_res = file_name[-7:-6]\n",
    "    front_res = file_name[-5:-4]\n",
    "    \n",
    "    if back_res == \"P\":\n",
    "        y_train_back.append(\"P\")\n",
    "    else:\n",
    "        y_train_back.append(\"F\")\n",
    "    \n",
    "    if front_res == \"P\":\n",
    "        y_train_front.append(\"P\")\n",
    "    else:\n",
    "        y_train_front.append(\"F\")\n",
    "\n",
    "x_train = np.stack(x_train, axis=0)\n",
    "y_train_front = np.stack(y_train_front, axis=0)\n",
    "y_train_back = np.stack(y_train_back, axis=0)\n",
    "\n",
    "print(x_train.shape)\n",
    "print(y_train_front.shape)\n",
    "print(y_train_back.shape)"
   ]
  },
  {
   "cell_type": "code",
   "execution_count": null,
   "metadata": {},
   "outputs": [
    {
     "name": "stdout",
     "output_type": "stream",
     "text": [
      "Best parameters: {'activation': 'relu', 'alpha': 0.001, 'hidden_layer_sizes': (500, 250, 50, 10), 'learning_rate': 'constant', 'max_iter': 500, 'solver': 'adam'}\n",
      "Accuracy of the best model: 0.65\n"
     ]
    }
   ],
   "source": [
    "# NN Model Training\n",
    "\n",
    "x_train_cpy, x_test_cpy, y_train_back_cpy, y_test_back_cpy = train_test_split(x_train, y_train_back, test_size=0.2)\n",
    "\n",
    "parameters = {\n",
    "    'hidden_layer_sizes': [(500, 250, 50, 10)],\n",
    "    'activation': ['relu'],\n",
    "    'solver': ['adam'],\n",
    "    'alpha': [0.001],\n",
    "    'learning_rate': ['constant'],\n",
    "    'max_iter': [500],\n",
    "}\n",
    "\n",
    "# Create MLPClassifier instance\n",
    "clf = MLPClassifier(random_state=42)\n",
    "\n",
    "# Use GridSearchCV for parameter tuning\n",
    "grid_search = GridSearchCV(clf, parameters, cv=5)\n",
    "grid_search.fit(x_train_cpy, y_train_back_cpy)\n",
    "\n",
    "# Best parameters found\n",
    "print(\"Best parameters:\", grid_search.best_params_)\n",
    "\n",
    "# Evaluate the best model\n",
    "best_model = grid_search.best_estimator_\n",
    "accuracy = best_model.score(x_test_cpy, y_test_back_cpy)\n",
    "print(\"Accuracy of the best model:\", accuracy)"
   ]
  },
  {
   "cell_type": "code",
   "execution_count": null,
   "metadata": {},
   "outputs": [
    {
     "name": "stdout",
     "output_type": "stream",
     "text": [
      "100_jig_M_P.csv\n",
      "M\n",
      "P\n"
     ]
    }
   ],
   "source": [
    "# Testing Zone\n",
    "print(jig_files[0])\n",
    "print(jig_files[0][-7:-6])\n",
    "print(jig_files[0][-5:-4])"
   ]
  }
 ],
 "metadata": {
  "kernelspec": {
   "display_name": "base",
   "language": "python",
   "name": "python3"
  },
  "language_info": {
   "codemirror_mode": {
    "name": "ipython",
    "version": 3
   },
   "file_extension": ".py",
   "mimetype": "text/x-python",
   "name": "python",
   "nbconvert_exporter": "python",
   "pygments_lexer": "ipython3",
   "version": "3.12.4"
  }
 },
 "nbformat": 4,
 "nbformat_minor": 2
}
