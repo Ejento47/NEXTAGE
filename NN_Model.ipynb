{
 "cells": [
  {
   "cell_type": "code",
   "execution_count": 35,
   "metadata": {},
   "outputs": [],
   "source": [
    "# Import Relevant Libraries\n",
    "import os\n",
    "import numpy as np\n",
    "import pandas as pd\n",
    "from sklearn.model_selection import GridSearchCV\n",
    "from sklearn.neural_network import MLPClassifier\n",
    "from sklearn.model_selection import train_test_split\n",
    "from sklearn.metrics import mean_squared_error"
   ]
  },
  {
   "cell_type": "code",
   "execution_count": 52,
   "metadata": {},
   "outputs": [
    {
     "name": "stdout",
     "output_type": "stream",
     "text": [
      "(100, 630)\n",
      "(100,)\n",
      "(100,)\n"
     ]
    }
   ],
   "source": [
    "# Reading files in folder\n",
    "direc = \"Data\"\n",
    "all_files = os.listdir(direc)\n",
    "jig_files = [file for file in all_files if \"jig\" in file]\n",
    "\n",
    "y_train_back = []\n",
    "y_train_front = []\n",
    "x_train = []\n",
    "\n",
    "data_types = [\" fx[N]\", \" fy[N]\", \" fz[N]\"]\n",
    "# Extracting data from CSV and giving them labels\n",
    "for file_name in jig_files:\n",
    "    df = pd.read_csv(os.path.join(direc, file_name))\n",
    "    data = []\n",
    "    for tst in data_types:\n",
    "        temp = df[tst].values\n",
    "        temp = temp[0:210]\n",
    "        data.append(temp)\n",
    "    x_train.append(np.concatenate(data))\n",
    "    \n",
    "    back_res = file_name[-7:-6]\n",
    "    front_res = file_name[-5:-4]\n",
    "    \n",
    "    if back_res == \"P\":\n",
    "        y_train_back.append(\"P\")\n",
    "    else:\n",
    "        y_train_back.append(\"F\")\n",
    "    \n",
    "    if front_res == \"P\":\n",
    "        y_train_front.append(\"P\")\n",
    "    else:\n",
    "        y_train_front.append(\"F\")\n",
    "\n",
    "x_train = np.stack(x_train, axis=0)\n",
    "y_train_front = np.stack(y_train_front, axis=0)\n",
    "y_train_back = np.stack(y_train_back, axis=0)\n",
    "\n",
    "print(x_train.shape)\n",
    "print(y_train_front.shape)\n",
    "print(y_train_back.shape)"
   ]
  },
  {
   "cell_type": "code",
   "execution_count": 54,
   "metadata": {},
   "outputs": [
    {
     "name": "stdout",
     "output_type": "stream",
     "text": [
      "Best parameters: {'activation': 'relu', 'alpha': 0.001, 'hidden_layer_sizes': (500, 250, 50, 10), 'learning_rate': 'constant', 'max_iter': 500, 'solver': 'adam'}\n",
      "Accuracy of the best model: 0.65\n"
     ]
    }
   ],
   "source": [
    "# NN Model Training\n",
    "\n",
    "x_train_cpy, x_test_cpy, y_train_back_cpy, y_test_back_cpy = train_test_split(x_train, y_train_back, test_size=0.2)\n",
    "\n",
    "parameters = {\n",
    "    'hidden_layer_sizes': [(500, 250, 50, 10)],\n",
    "    'activation': ['relu'],\n",
    "    'solver': ['adam'],\n",
    "    'alpha': [0.001],\n",
    "    'learning_rate': ['constant'],\n",
    "    'max_iter': [500],\n",
    "}\n",
    "\n",
    "# Create MLPClassifier instance\n",
    "clf = MLPClassifier(random_state=42)\n",
    "\n",
    "# Use GridSearchCV for parameter tuning\n",
    "grid_search = GridSearchCV(clf, parameters, cv=5)\n",
    "grid_search.fit(x_train_cpy, y_train_back_cpy)\n",
    "\n",
    "# Best parameters found\n",
    "print(\"Best parameters:\", grid_search.best_params_)\n",
    "\n",
    "# Evaluate the best model\n",
    "best_model = grid_search.best_estimator_\n",
    "accuracy = best_model.score(x_test_cpy, y_test_back_cpy)\n",
    "print(\"Accuracy of the best model:\", accuracy)"
   ]
  },
  {
   "cell_type": "code",
   "execution_count": 16,
   "metadata": {},
   "outputs": [
    {
     "name": "stdout",
     "output_type": "stream",
     "text": [
      "100_jig_M_P.csv\n",
      "M\n",
      "P\n"
     ]
    }
   ],
   "source": [
    "# Testing Zone\n",
    "print(jig_files[0])\n",
    "print(jig_files[0][-7:-6])\n",
    "print(jig_files[0][-5:-4])"
   ]
  }
 ],
 "metadata": {
  "kernelspec": {
   "display_name": "base",
   "language": "python",
   "name": "python3"
  },
  "language_info": {
   "codemirror_mode": {
    "name": "ipython",
    "version": 3
   },
   "file_extension": ".py",
   "mimetype": "text/x-python",
   "name": "python",
   "nbconvert_exporter": "python",
   "pygments_lexer": "ipython3",
   "version": "3.11.5"
  }
 },
 "nbformat": 4,
 "nbformat_minor": 2
}
