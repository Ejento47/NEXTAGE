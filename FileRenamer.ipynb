{
 "cells": [
  {
   "cell_type": "markdown",
   "metadata": {},
   "source": [
    "### Initial File Renaming\n",
    "Cleans up the initial file names to be easily identifiable by \"jig\", \"larm\", and \"rarm\", plus a corresponding number.\n",
    "\n",
    "E.g.: jig_1.csv, larm_5.csv\n",
    "\n",
    "The numbers will be ordered chronologically from earliest to latest."
   ]
  },
  {
   "cell_type": "code",
   "execution_count": 1,
   "metadata": {},
   "outputs": [
    {
     "name": "stdout",
     "output_type": "stream",
     "text": [
      "Success!\n"
     ]
    }
   ],
   "source": [
    "import os\n",
    "#get files from Master Data folder\n",
    "directory = 'Master Data' # Change to the name of the folder that contains the data files\n",
    "\n",
    "jig_files = []\n",
    "larm_files = []\n",
    "rarm_files = []\n",
    "\n",
    "jig_cntr = 1\n",
    "larm_cntr = 1\n",
    "rarm_cntr = 1\n",
    "\n",
    "# Will rename all files in the folder in the following format:\n",
    "# 20240709_162214_jig-ft.csv -> jig_x.csv, where x will be a number, ordered in chronological order\n",
    "for file_name in os.listdir(directory):\n",
    "    old_name = os.path.join(directory, file_name)\n",
    "    if \"jig\" in file_name:\n",
    "        new_name = os.path.join(directory, str(jig_cntr) + \"_jig.csv\")\n",
    "        os.rename(old_name, new_name)\n",
    "        jig_cntr += 1\n",
    "    elif \"larm\" in file_name:\n",
    "        new_name = os.path.join(directory, str(larm_cntr) + \"_larm.csv\")\n",
    "        os.rename(old_name, new_name)\n",
    "        larm_cntr += 1\n",
    "    elif \"rarm\" in file_name:\n",
    "        new_name = os.path.join(directory, str(rarm_cntr) + \"_rarm.csv\")\n",
    "        os.rename(old_name, new_name)\n",
    "        rarm_cntr += 1\n",
    "        \n",
    "print(\"Success!\")"
   ]
  },
  {
   "cell_type": "markdown",
   "metadata": {},
   "source": [
    "### Labelling of Files with Corresponding Success/Error Type\n",
    "\n",
    "WARNING: The above code block must be successfully ran before proceeding to this section."
   ]
  },
  {
   "cell_type": "code",
   "execution_count": 2,
   "metadata": {},
   "outputs": [
    {
     "name": "stdout",
     "output_type": "stream",
     "text": [
      "Success!\n"
     ]
    }
   ],
   "source": [
    "# Copy paste the results from telegram when prompted\n",
    "msg = input()\n",
    "\n",
    "msg = msg[23:].split(\".\")[1:]\n",
    "msg = [entry[0:3].split(\"-\") for entry in msg]\n",
    "\n",
    "results_front = [a[1] for a in msg]\n",
    "results_back = [a[0] for a in msg]\n",
    "\n",
    "def extractNum(file_name):\n",
    "    res = \"\"\n",
    "    for char in file_name:\n",
    "        if char == \"_\":\n",
    "            return int(res)\n",
    "        res += char;\n",
    "        \n",
    "files = os.listdir(directory)\n",
    "\n",
    "\n",
    "if len(results_front) == (len(files) / 3) and len(results_back) == (len(files) / 3):\n",
    "    for file_name in files:\n",
    "        idx = extractNum(file_name) - 1;\n",
    "        old_name = os.path.join(directory, file_name)\n",
    "        if (\"P\" in file_name) or (\"M\" in file_name) or (\"I\" in file_name):\n",
    "            new_name = os.path.join(directory, file_name[:-8] + \"_\" + results_back[idx] + \"_\" + results_front[idx] + \".csv\")\n",
    "        else:\n",
    "            new_name = os.path.join(directory, file_name[:-4] + \"_\" + results_back[idx] + \"_\" + results_front[idx] + \".csv\")\n",
    "        os.rename(old_name, new_name)\n",
    "    print(\"Success!\")\n",
    "else:\n",
    "    print(\"Invalid result input!\")"
   ]
  },
  {
   "cell_type": "markdown",
   "metadata": {},
   "source": [
    "### Testing Zone"
   ]
  },
  {
   "cell_type": "code",
   "execution_count": 3,
   "metadata": {},
   "outputs": [
    {
     "name": "stdout",
     "output_type": "stream",
     "text": [
      "Back Fold Results P I M\n",
      "71 15 14\n",
      "Front Fold Results P I M\n",
      "85 6 9\n"
     ]
    }
   ],
   "source": [
    "msg = input()\n",
    "\n",
    "msg = msg[23:].split(\".\")[1:]\n",
    "msg = [entry[0:3].split(\"-\") for entry in msg]\n",
    "\n",
    "results_front = [a[1] for a in msg]\n",
    "results_back = [a[0] for a in msg]\n",
    "\n",
    "print(\"Back Fold Results P I M\")\n",
    "print(results_back.count(\"P\"), results_back.count(\"I\"), results_back.count(\"M\"))\n",
    "print(\"Front Fold Results P I M\")\n",
    "print(results_front.count(\"P\"), results_front.count(\"I\"), results_front.count(\"M\"))"
   ]
  }
 ],
 "metadata": {
  "kernelspec": {
   "display_name": "base",
   "language": "python",
   "name": "python3"
  },
  "language_info": {
   "codemirror_mode": {
    "name": "ipython",
    "version": 3
   },
   "file_extension": ".py",
   "mimetype": "text/x-python",
   "name": "python",
   "nbconvert_exporter": "python",
   "pygments_lexer": "ipython3",
   "version": "3.12.4"
  }
 },
 "nbformat": 4,
 "nbformat_minor": 2
}
